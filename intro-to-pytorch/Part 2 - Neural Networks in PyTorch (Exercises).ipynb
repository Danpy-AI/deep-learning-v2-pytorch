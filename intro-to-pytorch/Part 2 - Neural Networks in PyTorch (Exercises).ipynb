{
 "cells": [
  {
   "cell_type": "markdown",
   "metadata": {},
   "source": [
    "# Neural networks with PyTorch\n",
    "\n",
    "Deep learning networks tend to be massive with dozens or hundreds of layers, that's where the term \"deep\" comes from. You can build one of these deep networks using only weight matrices as we did in the previous notebook, but in general it's very cumbersome and difficult to implement. PyTorch has a nice module `nn` that provides a nice way to efficiently build large neural networks."
   ]
  },
  {
   "cell_type": "code",
   "execution_count": 1,
   "metadata": {},
   "outputs": [],
   "source": [
    "# Import necessary packages\n",
    "\n",
    "%matplotlib inline\n",
    "%config InlineBackend.figure_format = 'retina'\n",
    "\n",
    "import numpy as np\n",
    "import torch\n",
    "\n",
    "import helper\n",
    "\n",
    "import matplotlib.pyplot as plt"
   ]
  },
  {
   "cell_type": "markdown",
   "metadata": {},
   "source": [
    "\n",
    "Now we're going to build a larger network that can solve a (formerly) difficult problem, identifying text in an image. Here we'll use the MNIST dataset which consists of greyscale handwritten digits. Each image is 28x28 pixels, you can see a sample below\n",
    "\n",
    "<img src='assets/mnist.png'>\n",
    "\n",
    "Our goal is to build a neural network that can take one of these images and predict the digit in the image.\n",
    "\n",
    "First up, we need to get our dataset. This is provided through the `torchvision` package. The code below will download the MNIST dataset, then create training and test datasets for us. Don't worry too much about the details here, you'll learn more about this later."
   ]
  },
  {
   "cell_type": "code",
   "execution_count": 2,
   "metadata": {},
   "outputs": [],
   "source": [
    "### Run this cell\n",
    "\n",
    "from torchvision import datasets, transforms\n",
    "\n",
    "# Define a transform to normalize the data\n",
    "transform = transforms.Compose([transforms.ToTensor(),\n",
    "                              transforms.Normalize((0.5,), (0.5,)),\n",
    "                              ])\n",
    "\n",
    "# Download and load the training data\n",
    "trainset = datasets.MNIST('~/.pytorch/MNIST_data/', download=True, train=True, transform=transform)\n",
    "trainloader = torch.utils.data.DataLoader(trainset, batch_size=64, shuffle=True)"
   ]
  },
  {
   "cell_type": "markdown",
   "metadata": {},
   "source": [
    "We have the training data loaded into `trainloader` and we make that an iterator with `iter(trainloader)`. Later, we'll use this to loop through the dataset for training, like\n",
    "\n",
    "```python\n",
    "for image, label in trainloader:\n",
    "    ## do things with images and labels\n",
    "```\n",
    "\n",
    "You'll notice I created the `trainloader` with a batch size of 64, and `shuffle=True`. The batch size is the number of images we get in one iteration from the data loader and pass through our network, often called a *batch*. And `shuffle=True` tells it to shuffle the dataset every time we start going through the data loader again. But here I'm just grabbing the first batch so we can check out the data. We can see below that `images` is just a tensor with size `(64, 1, 28, 28)`. So, 64 images per batch, 1 color channel, and 28x28 images."
   ]
  },
  {
   "cell_type": "code",
   "execution_count": 3,
   "metadata": {},
   "outputs": [
    {
     "name": "stdout",
     "output_type": "stream",
     "text": [
      "<class 'torch.Tensor'>\n",
      "torch.Size([64, 1, 28, 28])\n",
      "torch.Size([64])\n"
     ]
    }
   ],
   "source": [
    "dataiter = iter(trainloader)\n",
    "images, labels = dataiter.next()\n",
    "print(type(images))\n",
    "print(images.shape)\n",
    "print(labels.shape)"
   ]
  },
  {
   "cell_type": "markdown",
   "metadata": {},
   "source": [
    "This is what one of the images looks like. "
   ]
  },
  {
   "cell_type": "code",
   "execution_count": 4,
   "metadata": {},
   "outputs": [
    {
     "data": {
      "image/png": "[encoded data removed]",
      "text/plain": [
       "<Figure size 432x288 with 1 Axes>"
      ]
     },
     "metadata": {
      "image/png": {
       "height": 248,
       "width": 251
      },
      "needs_background": "light"
     },
     "output_type": "display_data"
    }
   ],
   "source": [
    "plt.imshow(images[1].numpy().squeeze(), cmap='Greys_r');"
   ]
  },
  {
   "cell_type": "markdown",
   "metadata": {},
   "source": [
    "First, let's try to build a simple network for this dataset using weight matrices and matrix multiplications. Then, we'll see how to do it using PyTorch's `nn` module which provides a much more convenient and powerful method for defining network architectures.\n",
    "\n",
    "The networks you've seen so far are called *fully-connected* or *dense* networks. Each unit in one layer is connected to each unit in the next layer. In fully-connected networks, the input to each layer must be a one-dimensional vector (which can be stacked into a 2D tensor as a batch of multiple examples). However, our images are 28x28 2D tensors, so we need to convert them into 1D vectors. Thinking about sizes, we need to convert the batch of images with shape `(64, 1, 28, 28)` to a have a shape of `(64, 784)`, 784 is 28 times 28. This is typically called *flattening*, we flattened the 2D images into 1D vectors.\n",
    "\n",
    "Previously you built a network with one output unit. Here we need 10 output units, one for each digit. We want our network to predict the digit shown in an image, so what we'll do is calculate probabilities that the image is of any one digit or class. This ends up being a discrete probability distribution over the classes (digits) that tells us the most likely class for the image. That means we need 10 output units for the 10 classes (digits). We'll see how to convert the network output into a probability distribution next.\n",
    "\n",
    "> **Exercise:** Flatten the batch of images `images`. Then build a multi-layer network with 784 input units, 256 hidden units, and 10 output units using random tensors for the weights and biases. For now, use a sigmoid activation for the hidden layer. Leave the output layer without an activation, we'll add one that gives us a probability distribution next."
   ]
  },
  {
   "cell_type": "code",
   "execution_count": 5,
   "metadata": {},
   "outputs": [
    {
     "name": "stdout",
     "output_type": "stream",
     "text": [
      "784\n"
     ]
    }
   ],
   "source": [
    "inputs = images.shape[2]*images.shape[3]\n",
    "print(inputs)"
   ]
  },
  {
   "cell_type": "code",
   "execution_count": 6,
   "metadata": {},
   "outputs": [
    {
     "name": "stdout",
     "output_type": "stream",
     "text": [
      "torch.Size([64, 10])\n",
      "tensor([[-4.2874e+00,  3.1790e+00,  9.9139e+00,  7.5857e+00,  1.5376e-01,\n",
      "          7.0663e+00, -1.5278e+01,  4.0091e+00,  7.8174e+00, -7.6414e+00],\n",
      "        [-5.0098e+00,  7.9586e+00,  4.6272e+00, -1.4989e+00, -5.5792e+00,\n",
      "         -4.5619e+00, -1.4427e+01,  6.2570e+00, -1.6265e+00, -8.2635e+00],\n",
      "        [-9.5483e+00, -1.3447e+01,  7.6275e+00,  6.5483e+00, -7.8068e+00,\n",
      "         -5.1631e+00, -2.1241e+01,  7.3967e-03,  3.5497e+00, -2.9516e+00],\n",
      "        [-1.0100e+01, -6.7134e+00,  3.3983e+00,  1.0331e+01, -7.3898e+00,\n",
      "         -4.7146e-01, -1.1028e+01,  8.3930e+00,  1.1322e+00,  6.1464e+00],\n",
      "        [-1.0498e+01,  3.8999e+00,  1.2497e+01,  7.1131e+00, -7.9909e+00,\n",
      "         -2.5643e-01, -1.4199e+01,  1.1449e+01,  1.0812e+01,  2.9115e-01],\n",
      "        [-5.1382e+00, -5.5569e+00,  8.1230e-01,  1.4028e+01, -9.3733e-01,\n",
      "         -3.5364e+00, -6.0279e+00,  5.5140e+00,  1.2613e+00, -4.2830e+00],\n",
      "        [-2.2366e+00, -6.1589e+00, -4.2371e+00, -4.6489e+00, -3.7056e+00,\n",
      "         -3.8810e+00, -1.4589e+01,  3.5863e+00, -8.7888e-01,  1.7479e+00],\n",
      "        [-1.6225e+00,  1.0089e+00,  8.1060e+00,  1.6938e+00, -5.9973e+00,\n",
      "          1.8976e+00, -8.9919e+00,  3.4159e+00,  4.8892e+00,  1.0238e+01],\n",
      "        [-9.6531e+00,  1.5153e+00,  1.2891e+01,  4.3043e+00, -9.1070e+00,\n",
      "         -7.4571e+00, -1.2797e+01,  3.8577e+00,  1.2830e+00,  4.0552e+00],\n",
      "        [-7.1113e+00, -8.0893e+00,  5.4006e+00,  2.9942e+00, -4.2827e+00,\n",
      "         -6.3281e+00, -1.3859e+01,  1.0023e+00, -3.4796e+00,  3.0121e+00],\n",
      "        [-7.9645e-01,  1.9710e+00,  7.2513e-01, -2.0314e+00, -7.8315e+00,\n",
      "         -4.7037e+00, -1.7631e+01,  7.1075e+00, -2.0207e+00, -4.4743e+00],\n",
      "        [-1.7841e+00, -3.2095e-01,  8.8997e+00, -3.3222e-02, -2.7369e+00,\n",
      "         -1.3738e+00, -5.8010e+00, -1.1032e+00, -2.8900e+00, -6.6906e+00],\n",
      "        [-8.0226e+00,  1.7695e+00,  1.2970e+01,  3.7368e+00, -2.0117e+01,\n",
      "         -3.0442e+00, -1.6849e+01,  7.9372e+00,  3.9829e+00, -2.8525e-01],\n",
      "        [ 1.5578e+00,  1.3529e-01,  9.9969e+00,  9.2257e+00, -1.9218e+00,\n",
      "          7.8190e+00, -9.5854e+00, -2.4314e+00,  1.3208e+00, -1.0843e+01],\n",
      "        [-9.7422e+00,  1.1976e-01,  7.2855e+00,  1.0596e+01, -6.8272e+00,\n",
      "         -5.9206e+00, -8.4810e+00,  9.4551e+00,  2.4779e+00,  3.4323e+00],\n",
      "        [-1.1365e+01,  2.5665e+00,  9.4257e+00,  1.9054e+01, -1.4958e+01,\n",
      "         -2.4404e+00, -6.1223e+00,  7.4086e+00,  4.8767e-01,  2.6483e+00],\n",
      "        [-1.2145e+01, -7.0743e+00,  1.4694e+01,  8.4864e+00, -6.8777e+00,\n",
      "         -5.3184e+00, -1.4075e+01,  1.3714e-01, -1.2791e+00, -3.8142e+00],\n",
      "        [-5.9252e+00,  7.2512e+00, -1.1432e+00,  7.6026e+00, -1.0755e+01,\n",
      "         -9.1068e+00, -3.9152e+00,  3.3902e+00, -1.4625e+00,  7.4643e+00],\n",
      "        [-4.5410e+00, -1.6867e+00,  9.3149e+00,  1.0324e+01, -1.4787e+01,\n",
      "          3.8029e+00, -1.1532e+01, -1.6924e+00,  2.3412e+00, -5.3686e+00],\n",
      "        [-6.1650e+00, -3.5708e+00,  8.6579e+00,  2.8401e+00, -7.5444e+00,\n",
      "         -5.5171e+00, -1.0768e+01,  4.9714e+00, -2.7370e+00, -2.0311e+00],\n",
      "        [ 4.8707e+00, -1.9306e+00, -5.9660e+00,  2.3921e+00, -2.8747e+00,\n",
      "          1.3784e+01, -4.0290e+00, -1.6189e+00, -1.4314e+00, -5.4028e+00],\n",
      "        [-4.0364e+00,  2.2791e+00,  8.8164e+00,  6.5954e+00, -5.8341e+00,\n",
      "          2.0631e+00, -1.2310e+01,  2.2591e-01,  7.3916e+00, -2.1017e+00],\n",
      "        [-3.7937e-02, -9.0292e-01,  5.5631e+00,  6.3775e+00, -1.4144e+01,\n",
      "         -2.1118e-01, -1.5625e+01,  2.5891e+00,  5.0092e+00, -2.3471e+00],\n",
      "        [ 1.0994e+00,  2.3505e+00,  1.2899e+01,  4.9669e+00, -1.0956e+01,\n",
      "          3.7871e+00, -7.3025e+00,  3.4382e+00,  1.2832e+01,  4.9144e+00],\n",
      "        [ 3.8083e+00, -2.2170e+00,  1.1285e+01,  3.6293e+00, -8.9085e+00,\n",
      "          6.7125e+00, -5.7255e+00,  5.6822e+00,  7.8953e+00,  6.2557e-01],\n",
      "        [-9.0491e+00, -2.1069e+00, -3.6709e+00, -1.8506e-01, -3.3584e+00,\n",
      "         -9.7061e+00, -6.6764e+00,  1.3226e+00,  1.0374e+00,  1.5921e+01],\n",
      "        [-1.1964e+01, -8.9479e-01,  1.0819e+01,  1.1986e-01, -1.0209e+01,\n",
      "         -1.1588e+01, -1.5831e+01, -7.9929e-01, -2.5927e+00, -1.5806e+00],\n",
      "        [-4.3748e+00, -5.5622e+00,  5.1912e+00,  3.5547e+00, -6.1384e+00,\n",
      "          4.3981e+00, -1.2095e+01,  2.9878e+00,  4.6503e-01,  6.8980e-01],\n",
      "        [-6.7287e+00, -6.3880e+00,  8.6953e+00, -3.0395e+00, -1.0929e+01,\n",
      "         -9.2494e+00, -2.0326e+01,  4.9251e-02, -1.5418e+00, -5.6764e+00],\n",
      "        [-1.0924e+01,  3.6172e+00,  1.2021e+01,  7.6127e-01, -1.0364e+01,\n",
      "         -5.9346e+00, -1.8267e+01, -1.9356e+00,  3.0826e+00, -4.9567e+00],\n",
      "        [-8.4236e-01,  3.8360e+00,  6.3506e+00, -5.5051e-01, -9.1909e+00,\n",
      "         -9.2432e+00, -9.4922e+00,  1.7430e+01,  3.6883e+00, -7.3439e+00],\n",
      "        [-1.8574e+00,  9.8879e+00,  4.4257e+00,  2.9360e+00, -7.3672e+00,\n",
      "          1.0793e+01, -9.7399e+00,  5.4313e+00,  1.3495e+01, -2.7478e+00],\n",
      "        [-5.9122e+00,  3.6833e+00,  1.1892e+01, -1.8510e+00, -1.4414e+01,\n",
      "         -1.0491e+01, -6.9134e+00,  6.8177e+00,  5.2831e-02, -1.8653e-01],\n",
      "        [-4.3816e+00,  1.2687e+01,  1.8142e+00,  9.3779e+00,  2.1165e+00,\n",
      "          3.3565e+00, -9.8804e+00,  4.5240e+00,  4.8197e+00, -4.6081e-01],\n",
      "        [-9.8430e+00, -2.1599e+00,  1.3203e+01,  7.7994e+00, -4.6194e+00,\n",
      "         -1.4968e+00, -1.4414e+01,  3.7957e+00, -3.6536e-01, -8.0136e+00],\n",
      "        [-4.1479e+00,  9.5098e+00,  8.3172e-01, -2.1075e-01, -8.0417e+00,\n",
      "          6.3792e+00, -1.5575e-01,  1.0998e+00,  1.6753e+00, -7.0854e-01],\n",
      "        [ 6.7585e+00,  1.0477e+01,  3.7288e+00, -2.0935e+00, -1.7681e+01,\n",
      "         -2.0190e+00, -7.6741e+00,  6.1610e+00,  8.8570e+00, -1.1638e+00],\n",
      "        [-6.0402e+00,  2.2204e+00,  7.9625e+00, -2.5007e-01, -1.1937e+01,\n",
      "          9.0215e-01, -1.4299e+01,  2.2990e+00,  5.7761e+00, -1.4702e+01],\n",
      "        [-5.6844e+00,  2.3437e+00,  7.7621e+00,  2.8733e+00, -1.0704e+01,\n",
      "          4.4690e-01, -5.8640e+00, -1.0176e-01, -1.5618e+00,  1.4848e+01],\n",
      "        [-8.3171e+00, -1.2252e+00,  8.5960e+00, -1.0189e-01, -1.0612e+01,\n",
      "          3.6576e-01, -1.1495e+01,  4.0947e+00, -8.3128e-01,  5.9906e+00],\n",
      "        [-1.7620e+00,  6.8657e-01,  1.1153e+01,  4.5711e-01, -1.0025e+01,\n",
      "         -7.3900e+00, -3.9290e+00, -4.3682e+00, -5.7204e-01, -3.5731e+00],\n",
      "        [-7.8386e+00,  7.4506e+00,  1.1805e+01,  7.9505e-01, -8.6233e+00,\n",
      "         -2.9830e+00, -1.3501e+01,  1.6157e+00,  5.3181e+00,  5.8326e+00],\n",
      "        [ 1.4184e-01,  6.4206e+00,  7.9404e+00,  3.5598e+00, -1.9384e+00,\n",
      "          4.7798e-01, -1.7968e+01,  6.0250e+00,  9.3662e+00, -8.4726e+00],\n",
      "        [ 1.3100e+00, -5.6607e-01, -5.1390e+00,  1.3987e-01, -6.8258e+00,\n",
      "         -1.2982e+00, -1.5015e+01, -4.1545e-01, -8.4643e+00,  9.0264e+00],\n",
      "        [-2.3435e+00, -7.1148e+00,  4.7883e+00, -1.2931e+01, -1.3618e+01,\n",
      "         -1.1234e+01, -1.5049e+01, -4.8206e+00,  5.4092e+00, -2.2268e+00],\n",
      "        [-1.1104e+01,  4.1985e+00,  1.2665e+01, -6.9638e+00, -9.2376e+00,\n",
      "         -1.3737e+01, -1.9349e+01,  1.1764e-03, -1.4598e+00,  1.1376e+01],\n",
      "        [-5.7638e+00, -3.7967e+00,  1.6830e+01,  5.2308e+00, -1.7775e+01,\n",
      "         -4.3681e+00, -1.6914e+01, -6.5344e+00,  2.2855e+00, -7.9949e+00],\n",
      "        [-6.1614e+00,  3.9684e+00,  5.2014e+00,  5.6976e+00, -7.2113e+00,\n",
      "         -4.8702e+00, -1.4283e+01,  1.0616e+01,  6.3588e+00, -4.8201e-01],\n",
      "        [-1.1669e-01, -1.2160e+00, -7.7683e-01,  4.6164e+00, -7.7399e+00,\n",
      "         -1.1671e+00, -1.1054e+01, -4.0829e+00, -1.4168e+00, -1.1001e+01],\n",
      "        [-8.5466e+00, -1.2177e+00,  9.0034e+00,  1.1317e+01, -5.0142e+00,\n",
      "         -2.0937e+00, -1.3433e+01,  3.5259e+00, -7.8833e-01, -1.1437e+00],\n",
      "        [ 4.0794e+00, -4.4971e+00,  1.4294e+01,  6.8689e+00, -8.4089e+00,\n",
      "          3.9389e+00, -8.1235e+00,  3.1100e+00,  1.0061e+01, -4.7618e+00],\n",
      "        [-9.8258e+00, -9.5530e+00,  5.9033e+00,  9.1550e+00, -1.0085e+01,\n",
      "         -2.8536e+00, -2.1806e+01,  4.6391e+00, -1.1282e+00, -9.2570e+00],\n",
      "        [ 1.7486e+00,  3.5023e+00,  5.2996e+00,  7.7839e+00, -1.0576e+01,\n",
      "         -6.9656e+00, -1.1424e+01, -3.0073e+00, -4.2591e+00,  4.9228e+00],\n",
      "        [-5.4373e-01,  4.4156e+00,  7.3340e+00,  4.1137e+00, -6.1534e+00,\n",
      "          1.2680e+00, -9.8221e+00,  1.1707e+01,  3.3874e+00, -3.1094e+00],\n",
      "        [-3.7494e+00, -1.1782e+01,  2.6459e+00, -3.3923e+00,  6.4104e+00,\n",
      "          3.8595e+00, -1.1958e+01,  8.6275e-01,  3.6605e+00, -7.9131e+00],\n",
      "        [-7.2449e-01, -3.3182e+00,  4.2886e+00,  5.8725e+00, -3.7727e+00,\n",
      "          1.8989e-01, -4.3474e+00,  9.0376e-01,  2.0184e+00,  2.8421e+00],\n",
      "        [-1.9977e+00,  7.9700e+00,  1.0074e+01,  3.6250e-01, -3.9972e+00,\n",
      "         -3.6508e+00, -7.8604e+00,  5.4359e+00,  5.6744e+00, -6.1522e+00],\n",
      "        [-8.6136e+00, -5.9574e+00,  8.8706e+00, -2.3686e+00, -1.1846e+00,\n",
      "          4.0352e+00, -6.9942e+00, -1.8936e+00, -2.5960e+00,  1.5715e+00],\n",
      "        [-3.6731e+00,  6.9658e+00,  3.8448e+00,  5.1448e+00, -1.1433e+01,\n",
      "         -1.0153e+01, -6.0432e+00, -6.0378e+00, -2.1925e+00,  6.8174e+00],\n",
      "        [ 3.6465e+00, -1.9217e+00,  3.5907e+00,  1.7972e+00, -1.0152e+01,\n",
      "          5.7303e+00, -5.7419e+00, -2.9640e+00, -4.0929e+00,  1.1285e+01],\n",
      "        [-5.6619e+00,  5.8022e+00,  5.1650e+00, -5.9836e+00, -8.5434e+00,\n",
      "          2.9863e+00, -8.5293e+00,  4.1608e-01, -1.7634e-01,  1.0254e+01],\n",
      "        [-2.3008e+00, -7.1989e+00,  4.5514e-01,  2.2799e+00, -5.6659e+00,\n",
      "          5.0097e+00, -4.7180e+00,  3.8781e+00, -9.2340e-01, -3.0731e-01],\n",
      "        [-3.0976e+00,  5.8123e+00,  4.5314e+00,  1.5275e+01, -4.3485e+00,\n",
      "          4.7726e+00, -3.4134e+00,  6.8793e-02,  1.6806e+00, -3.0022e+00],\n",
      "        [-1.3394e+00,  1.7331e+00,  9.1831e+00, -6.3847e-01, -1.5305e+01,\n",
      "         -5.7084e+00, -1.7568e+01,  2.6555e+00,  5.1703e+00, -6.5100e+00]])\n"
     ]
    }
   ],
   "source": [
    "## Your solution\n",
    "def activation(x):\n",
    "    return 1/(1+torch.exp(-x))\n",
    "\n",
    "#images 64,1,28,28\n",
    "torch.manual_seed(1)\n",
    "n_inputs = images.shape[2]*images.shape[3]\n",
    "n_hidden = 256\n",
    "n_out = 10\n",
    "\n",
    "inputs = images.reshape(images.shape[0],n_inputs)\n",
    "\n",
    "W1 = torch.randn(n_inputs, n_hidden)\n",
    "B1 = torch.randn(n_hidden)\n",
    "W2 = torch.randn(n_hidden, n_out)\n",
    "B2 = torch.randn(n_out)\n",
    "\n",
    "hidden_out = activation(torch.mm(inputs, W1)+B1)\n",
    "\n",
    "out = torch.mm(hidden_out, W2)+B2# output of your network, should have shape (64,10)\n",
    "\n",
    "print(out.shape)\n",
    "print(out)"
   ]
  },
  {
   "cell_type": "markdown",
   "metadata": {},
   "source": [
    "Now we have 10 outputs for our network. We want to pass in an image to our network and get out a probability distribution over the classes that tells us the likely class(es) the image belongs to. Something that looks like this:\n",
    "<img src='assets/image_distribution.png' width=500px>\n",
    "\n",
    "Here we see that the probability for each class is roughly the same. This is representing an untrained network, it hasn't seen any data yet so it just returns a uniform distribution with equal probabilities for each class.\n",
    "\n",
    "To calculate this probability distribution, we often use the [**softmax** function](https://en.wikipedia.org/wiki/Softmax_function). Mathematically this looks like\n",
    "\n",
    "$$\n",
    "\\Large \\sigma(x_i) = \\cfrac{e^{x_i}}{\\sum_k^K{e^{x_k}}}\n",
    "$$\n",
    "\n",
    "What this does is squish each input $x_i$ between 0 and 1 and normalizes the values to give you a proper probability distribution where the probabilites sum up to one.\n",
    "\n",
    "> **Exercise:** Implement a function `softmax` that performs the softmax calculation and returns probability distributions for each example in the batch. Note that you'll need to pay attention to the shapes when doing this. If you have a tensor `a` with shape `(64, 10)` and a tensor `b` with shape `(64,)`, doing `a/b` will give you an error because PyTorch will try to do the division across the columns (called broadcasting) but you'll get a size mismatch. The way to think about this is for each of the 64 examples, you only want to divide by one value, the sum in the denominator. So you need `b` to have a shape of `(64, 1)`. This way PyTorch will divide the 10 values in each row of `a` by the one value in each row of `b`. Pay attention to how you take the sum as well. You'll need to define the `dim` keyword in `torch.sum`. Setting `dim=0` takes the sum across the rows while `dim=1` takes the sum across the columns."
   ]
  },
  {
   "cell_type": "code",
   "execution_count": 7,
   "metadata": {},
   "outputs": [
    {
     "name": "stdout",
     "output_type": "stream",
     "text": [
      "torch.Size([64, 10])\n",
      "tensor([1.0000, 1.0000, 1.0000, 1.0000, 1.0000, 1.0000, 1.0000, 1.0000, 1.0000,\n",
      "        1.0000, 1.0000, 1.0000, 1.0000, 1.0000, 1.0000, 1.0000, 1.0000, 1.0000,\n",
      "        1.0000, 1.0000, 1.0000, 1.0000, 1.0000, 1.0000, 1.0000, 1.0000, 1.0000,\n",
      "        1.0000, 1.0000, 1.0000, 1.0000, 1.0000, 1.0000, 1.0000, 1.0000, 1.0000,\n",
      "        1.0000, 1.0000, 1.0000, 1.0000, 1.0000, 1.0000, 1.0000, 1.0000, 1.0000,\n",
      "        1.0000, 1.0000, 1.0000, 1.0000, 1.0000, 1.0000, 1.0000, 1.0000, 1.0000,\n",
      "        1.0000, 1.0000, 1.0000, 1.0000, 1.0000, 1.0000, 1.0000, 1.0000, 1.0000,\n",
      "        1.0000])\n"
     ]
    }
   ],
   "source": [
    "def softmax(x):\n",
    "    return torch.exp(x)/torch.sum(torch.exp(x), dim=1).view(-1,1)\n",
    "    ## TODO: Implement the softmax function here\n",
    "\n",
    "# Here, out should be the output of the network in the previous excercise with shape (64,10)\n",
    "probabilities = softmax(out)\n",
    "\n",
    "# Does it have the right shape? Should be (64, 10)\n",
    "print(probabilities.shape)\n",
    "# Does it sum to 1?\n",
    "print(probabilities.sum(dim=1))"
   ]
  },
  {
   "cell_type": "markdown",
   "metadata": {},
   "source": [
    "## Building networks with PyTorch\n",
    "\n",
    "PyTorch provides a module `nn` that makes building networks much simpler. Here I'll show you how to build the same one as above with 784 inputs, 256 hidden units, 10 output units and a softmax output."
   ]
  },
  {
   "cell_type": "code",
   "execution_count": 8,
   "metadata": {},
   "outputs": [],
   "source": [
    "from torch import nn"
   ]
  },
  {
   "cell_type": "code",
   "execution_count": 9,
   "metadata": {},
   "outputs": [],
   "source": [
    "class Network(nn.Module):\n",
    "    def __init__(self):\n",
    "        super().__init__()\n",
    "        \n",
    "        # Inputs to hidden layer linear transformation\n",
    "        self.hidden = nn.Linear(784, 256)\n",
    "        # Output layer, 10 units - one for each digit\n",
    "        self.output = nn.Linear(256, 10)\n",
    "        \n",
    "        # Define sigmoid activation and softmax output \n",
    "        self.sigmoid = nn.Sigmoid()\n",
    "        self.softmax = nn.Softmax(dim=1)\n",
    "        \n",
    "    def forward(self, x):\n",
    "        # Pass the input tensor through each of our operations\n",
    "        x = self.hidden(x)\n",
    "        x = self.sigmoid(x)\n",
    "        x = self.output(x)\n",
    "        x = self.softmax(x)\n",
    "        \n",
    "        return x"
   ]
  },
  {
   "cell_type": "markdown",
   "metadata": {},
   "source": [
    "Let's go through this bit by bit.\n",
    "\n",
    "```python\n",
    "class Network(nn.Module):\n",
    "```\n",
    "\n",
    "Here we're inheriting from `nn.Module`. Combined with `super().__init__()` this creates a class that tracks the architecture and provides a lot of useful methods and attributes. It is mandatory to inherit from `nn.Module` when you're creating a class for your network. The name of the class itself can be anything.\n",
    "\n",
    "```python\n",
    "self.hidden = nn.Linear(784, 256)\n",
    "```\n",
    "\n",
    "This line creates a module for a linear transformation, $x\\mathbf{W} + b$, with 784 inputs and 256 outputs and assigns it to `self.hidden`. The module automatically creates the weight and bias tensors which we'll use in the `forward` method. You can access the weight and bias tensors once the network (`net`) is created with `net.hidden.weight` and `net.hidden.bias`.\n",
    "\n",
    "```python\n",
    "self.output = nn.Linear(256, 10)\n",
    "```\n",
    "\n",
    "Similarly, this creates another linear transformation with 256 inputs and 10 outputs.\n",
    "\n",
    "```python\n",
    "self.sigmoid = nn.Sigmoid()\n",
    "self.softmax = nn.Softmax(dim=1)\n",
    "```\n",
    "\n",
    "Here I defined operations for the sigmoid activation and softmax output. Setting `dim=1` in `nn.Softmax(dim=1)` calculates softmax across the columns.\n",
    "\n",
    "```python\n",
    "def forward(self, x):\n",
    "```\n",
    "\n",
    "PyTorch networks created with `nn.Module` must have a `forward` method defined. It takes in a tensor `x` and passes it through the operations you defined in the `__init__` method.\n",
    "\n",
    "```python\n",
    "x = self.hidden(x)\n",
    "x = self.sigmoid(x)\n",
    "x = self.output(x)\n",
    "x = self.softmax(x)\n",
    "```\n",
    "\n",
    "Here the input tensor `x` is passed through each operation and reassigned to `x`. We can see that the input tensor goes through the hidden layer, then a sigmoid function, then the output layer, and finally the softmax function. It doesn't matter what you name the variables here, as long as the inputs and outputs of the operations match the network architecture you want to build. The order in which you define things in the `__init__` method doesn't matter, but you'll need to sequence the operations correctly in the `forward` method.\n",
    "\n",
    "Now we can create a `Network` object."
   ]
  },
  {
   "cell_type": "code",
   "execution_count": 10,
   "metadata": {},
   "outputs": [
    {
     "data": {
      "text/plain": [
       "Network(\n",
       "  (hidden): Linear(in_features=784, out_features=256, bias=True)\n",
       "  (output): Linear(in_features=256, out_features=10, bias=True)\n",
       "  (sigmoid): Sigmoid()\n",
       "  (softmax): Softmax(dim=1)\n",
       ")"
      ]
     },
     "execution_count": 10,
     "metadata": {},
     "output_type": "execute_result"
    }
   ],
   "source": [
    "# Create the network and look at it's text representation\n",
    "model = Network()\n",
    "model"
   ]
  },
  {
   "cell_type": "markdown",
   "metadata": {},
   "source": [
    "You can define the network somewhat more concisely and clearly using the `torch.nn.functional` module. This is the most common way you'll see networks defined as many operations are simple element-wise functions. We normally import this module as `F`, `import torch.nn.functional as F`."
   ]
  },
  {
   "cell_type": "code",
   "execution_count": 11,
   "metadata": {},
   "outputs": [],
   "source": [
    "import torch.nn.functional as F\n",
    "\n",
    "class Network(nn.Module):\n",
    "    def __init__(self):\n",
    "        super().__init__()\n",
    "        # Inputs to hidden layer linear transformation\n",
    "        self.hidden = nn.Linear(784, 256)\n",
    "        # Output layer, 10 units - one for each digit\n",
    "        self.output = nn.Linear(256, 10)\n",
    "        \n",
    "    def forward(self, x):\n",
    "        # Hidden layer with sigmoid activation\n",
    "        x = F.sigmoid(self.hidden(x))\n",
    "        # Output layer with softmax activation\n",
    "        x = F.softmax(self.output(x), dim=1)\n",
    "        \n",
    "        return x"
   ]
  },
  {
   "cell_type": "markdown",
   "metadata": {},
   "source": [
    "### Activation functions\n",
    "\n",
    "So far we've only been looking at the sigmoid activation function, but in general any function can be used as an activation function. The only requirement is that for a network to approximate a non-linear function, the activation functions must be non-linear. Here are a few more examples of common activation functions: Tanh (hyperbolic tangent), and ReLU (rectified linear unit).\n",
    "\n",
    "<img src=\"assets/activation.png\" width=700px>\n",
    "\n",
    "In practice, the ReLU function is used almost exclusively as the activation function for hidden layers."
   ]
  },
  {
   "cell_type": "markdown",
   "metadata": {},
   "source": [
    "### Your Turn to Build a Network\n",
    "\n",
    "<img src=\"assets/mlp_mnist.png\" width=600px>\n",
    "\n",
    "> **Exercise:** Create a network with 784 input units, a hidden layer with 128 units and a ReLU activation, then a hidden layer with 64 units and a ReLU activation, and finally an output layer with a softmax activation as shown above. You can use a ReLU activation with the `nn.ReLU` module or `F.relu` function.\n",
    "\n",
    "It's good practice to name your layers by their type of network, for instance 'fc' to represent a fully-connected layer. As you code your solution, use `fc1`, `fc2`, and `fc3` as your layer names."
   ]
  },
  {
   "cell_type": "code",
   "execution_count": 12,
   "metadata": {
    "scrolled": true
   },
   "outputs": [],
   "source": [
    "## Your solution here\n",
    "import torch.nn.functional as F\n",
    "from torch import nn\n",
    "\n",
    "class My_nn(nn.Module):\n",
    "    def __init__(self):\n",
    "        super().__init__()\n",
    "        self.fc1 = nn.Linear(784, 128)\n",
    "        self.fc2 = nn.Linear(128, 64)\n",
    "        self.fc3 = nn.Linear(64, 10)\n",
    "        \n",
    "    def forward(self, x):\n",
    "        x = F.relu(self.fc1(x))\n",
    "        x = F.relu(self.fc2(x))\n",
    "        x = F.softmax(self.fc3(x), 1)\n",
    "        \n",
    "        return x \n",
    "        \n",
    "model = My_nn()"
   ]
  },
  {
   "cell_type": "markdown",
   "metadata": {},
   "source": [
    "### Initializing weights and biases\n",
    "\n",
    "The weights and such are automatically initialized for you, but it's possible to customize how they are initialized. The weights and biases are tensors attached to the layer you defined, you can get them with `model.fc1.weight` for instance."
   ]
  },
  {
   "cell_type": "code",
   "execution_count": 13,
   "metadata": {},
   "outputs": [
    {
     "name": "stdout",
     "output_type": "stream",
     "text": [
      "Parameter containing:\n",
      "tensor([[ 0.0320, -0.0029, -0.0028,  ...,  0.0218, -0.0048, -0.0052],\n",
      "        [ 0.0071,  0.0089, -0.0170,  ..., -0.0083,  0.0174, -0.0355],\n",
      "        [ 0.0257,  0.0105,  0.0293,  ..., -0.0223,  0.0028, -0.0163],\n",
      "        ...,\n",
      "        [ 0.0052, -0.0307, -0.0001,  ...,  0.0137, -0.0056,  0.0173],\n",
      "        [ 0.0045,  0.0061,  0.0251,  ...,  0.0343,  0.0321, -0.0104],\n",
      "        [ 0.0032,  0.0098,  0.0275,  ..., -0.0283, -0.0074,  0.0332]],\n",
      "       requires_grad=True)\n",
      "Parameter containing:\n",
      "tensor([-0.0233,  0.0174,  0.0291,  0.0196, -0.0264,  0.0064, -0.0157,  0.0098,\n",
      "        -0.0043, -0.0177,  0.0223, -0.0143,  0.0100,  0.0063,  0.0027,  0.0303,\n",
      "        -0.0097,  0.0245,  0.0090, -0.0154,  0.0055,  0.0216,  0.0196,  0.0142,\n",
      "        -0.0107,  0.0322,  0.0049,  0.0240, -0.0239,  0.0289,  0.0002, -0.0136,\n",
      "         0.0319,  0.0100,  0.0104,  0.0077, -0.0132, -0.0311,  0.0114,  0.0012,\n",
      "        -0.0350, -0.0032,  0.0193,  0.0080,  0.0032,  0.0040, -0.0102, -0.0344,\n",
      "        -0.0338,  0.0131,  0.0305, -0.0090, -0.0047, -0.0038,  0.0057, -0.0242,\n",
      "        -0.0301,  0.0297, -0.0280,  0.0212, -0.0065,  0.0279, -0.0142,  0.0296,\n",
      "        -0.0017,  0.0055, -0.0198, -0.0317,  0.0305,  0.0183,  0.0294, -0.0317,\n",
      "         0.0324,  0.0343, -0.0017, -0.0345, -0.0089, -0.0025, -0.0145,  0.0209,\n",
      "        -0.0346,  0.0114, -0.0176,  0.0105, -0.0036, -0.0317,  0.0208,  0.0214,\n",
      "         0.0325, -0.0247, -0.0254,  0.0154, -0.0227,  0.0107, -0.0234, -0.0172,\n",
      "         0.0177,  0.0087, -0.0240, -0.0153,  0.0315, -0.0171,  0.0052,  0.0019,\n",
      "         0.0156, -0.0135, -0.0306,  0.0068,  0.0301,  0.0048,  0.0332, -0.0316,\n",
      "         0.0086, -0.0252, -0.0168, -0.0006,  0.0197, -0.0293, -0.0241,  0.0054,\n",
      "         0.0152, -0.0074,  0.0198, -0.0131,  0.0225,  0.0254, -0.0035,  0.0011],\n",
      "       requires_grad=True)\n"
     ]
    }
   ],
   "source": [
    "print(model.fc1.weight)\n",
    "print(model.fc1.bias)"
   ]
  },
  {
   "cell_type": "markdown",
   "metadata": {},
   "source": [
    "For custom initialization, we want to modify these tensors in place. These are actually autograd *Variables*, so we need to get back the actual tensors with `model.fc1.weight.data`. Once we have the tensors, we can fill them with zeros (for biases) or random normal values."
   ]
  },
  {
   "cell_type": "code",
   "execution_count": 14,
   "metadata": {},
   "outputs": [
    {
     "data": {
      "text/plain": [
       "tensor([0., 0., 0., 0., 0., 0., 0., 0., 0., 0., 0., 0., 0., 0., 0., 0., 0., 0., 0., 0., 0., 0., 0., 0.,\n",
       "        0., 0., 0., 0., 0., 0., 0., 0., 0., 0., 0., 0., 0., 0., 0., 0., 0., 0., 0., 0., 0., 0., 0., 0.,\n",
       "        0., 0., 0., 0., 0., 0., 0., 0., 0., 0., 0., 0., 0., 0., 0., 0., 0., 0., 0., 0., 0., 0., 0., 0.,\n",
       "        0., 0., 0., 0., 0., 0., 0., 0., 0., 0., 0., 0., 0., 0., 0., 0., 0., 0., 0., 0., 0., 0., 0., 0.,\n",
       "        0., 0., 0., 0., 0., 0., 0., 0., 0., 0., 0., 0., 0., 0., 0., 0., 0., 0., 0., 0., 0., 0., 0., 0.,\n",
       "        0., 0., 0., 0., 0., 0., 0., 0.])"
      ]
     },
     "execution_count": 14,
     "metadata": {},
     "output_type": "execute_result"
    }
   ],
   "source": [
    "# Set biases to all zeros\n",
    "model.fc1.bias.data.fill_(0)"
   ]
  },
  {
   "cell_type": "code",
   "execution_count": 15,
   "metadata": {},
   "outputs": [
    {
     "data": {
      "text/plain": [
       "tensor([[-0.0030, -0.0102,  0.0048,  ...,  0.0105,  0.0054, -0.0010],\n",
       "        [ 0.0084,  0.0109, -0.0050,  ..., -0.0013,  0.0100,  0.0045],\n",
       "        [-0.0053,  0.0027, -0.0231,  ...,  0.0173,  0.0043, -0.0042],\n",
       "        ...,\n",
       "        [ 0.0111, -0.0030,  0.0002,  ..., -0.0210,  0.0076, -0.0043],\n",
       "        [ 0.0221, -0.0084,  0.0002,  ...,  0.0034, -0.0028, -0.0171],\n",
       "        [-0.0085,  0.0013,  0.0174,  ...,  0.0030, -0.0088, -0.0115]])"
      ]
     },
     "execution_count": 15,
     "metadata": {},
     "output_type": "execute_result"
    }
   ],
   "source": [
    "# sample from random normal with standard dev = 0.01\n",
    "model.fc1.weight.data.normal_(std=0.01)"
   ]
  },
  {
   "cell_type": "markdown",
   "metadata": {},
   "source": [
    "### Forward pass\n",
    "\n",
    "Now that we have a network, let's see what happens when we pass in an image."
   ]
  },
  {
   "cell_type": "code",
   "execution_count": 16,
   "metadata": {},
   "outputs": [
    {
     "data": {
      "image/png": "[encoded data removed]",
      "text/plain": [
       "<Figure size 432x648 with 2 Axes>"
      ]
     },
     "metadata": {
      "image/png": {
       "height": 235,
       "width": 424
      },
      "needs_background": "light"
     },
     "output_type": "display_data"
    }
   ],
   "source": [
    "# Grab some data \n",
    "dataiter = iter(trainloader)\n",
    "images, labels = dataiter.next()\n",
    "\n",
    "# Resize images into a 1D vector, new shape is (batch size, color channels, image pixels) \n",
    "images.resize_(64, 1, 784)\n",
    "# or images.resize_(images.shape[0], 1, 784) to automatically get batch size\n",
    "\n",
    "# Forward pass through the network\n",
    "img_idx = 0\n",
    "ps = model.forward(images[img_idx,:])\n",
    "\n",
    "img = images[img_idx]\n",
    "helper.view_classify(img.view(1, 28, 28), ps)"
   ]
  },
  {
   "cell_type": "markdown",
   "metadata": {},
   "source": [
    "As you can see above, our network has basically no idea what this digit is. It's because we haven't trained it yet, all the weights are random!\n",
    "\n",
    "### Using `nn.Sequential`\n",
    "\n",
    "PyTorch provides a convenient way to build networks like this where a tensor is passed sequentially through operations, `nn.Sequential` ([documentation](https://pytorch.org/docs/master/nn.html#torch.nn.Sequential)). Using this to build the equivalent network:"
   ]
  },
  {
   "cell_type": "code",
   "execution_count": 18,
   "metadata": {},
   "outputs": [
    {
     "name": "stdout",
     "output_type": "stream",
     "text": [
      "Sequential(\n",
      "  (0): Linear(in_features=784, out_features=128, bias=True)\n",
      "  (1): ReLU()\n",
      "  (2): Linear(in_features=128, out_features=64, bias=True)\n",
      "  (3): ReLU()\n",
      "  (4): Linear(in_features=64, out_features=10, bias=True)\n",
      "  (5): Softmax(dim=1)\n",
      ")\n"
     ]
    },
    {
     "data": {
      "image/png": "[encoded data removed]",
      "text/plain": [
       "<Figure size 432x648 with 2 Axes>"
      ]
     },
     "metadata": {
      "image/png": {
       "height": 235,
       "width": 424
      },
      "needs_background": "light"
     },
     "output_type": "display_data"
    }
   ],
   "source": [
    "# Hyperparameters for our network\n",
    "input_size = 784\n",
    "hidden_sizes = [128, 64]\n",
    "output_size = 10\n",
    "\n",
    "# Build a feed-forward network\n",
    "model = nn.Sequential(nn.Linear(input_size, hidden_sizes[0]),\n",
    "                      nn.ReLU(),\n",
    "                      nn.Linear(hidden_sizes[0], hidden_sizes[1]),\n",
    "                      nn.ReLU(),\n",
    "                      nn.Linear(hidden_sizes[1], output_size),\n",
    "                      nn.Softmax(dim=1))\n",
    "print(model)\n",
    "\n",
    "# Forward pass through the network and display output\n",
    "images, labels = next(iter(trainloader))\n",
    "images.resize_(images.shape[0], 1, 784)\n",
    "ps = model.forward(images[0,:])\n",
    "helper.view_classify(images[0].view(1, 28, 28), ps)"
   ]
  },
  {
   "cell_type": "markdown",
   "metadata": {},
   "source": [
    "Here our model is the same as before: 784 input units, a hidden layer with 128 units, ReLU activation, 64 unit hidden layer, another ReLU, then the output layer with 10 units, and the softmax output.\n",
    "\n",
    "The operations are available by passing in the appropriate index. For example, if you want to get first Linear operation and look at the weights, you'd use `model[0]`."
   ]
  },
  {
   "cell_type": "code",
   "execution_count": null,
   "metadata": {
    "collapsed": true
   },
   "outputs": [],
   "source": [
    "print(model[0])\n",
    "model[0].weight"
   ]
  },
  {
   "cell_type": "markdown",
   "metadata": {},
   "source": [
    "You can also pass in an `OrderedDict` to name the individual layers and operations, instead of using incremental integers. Note that dictionary keys must be unique, so _each operation must have a different name_."
   ]
  },
  {
   "cell_type": "code",
   "execution_count": null,
   "metadata": {
    "collapsed": true
   },
   "outputs": [],
   "source": [
    "from collections import OrderedDict\n",
    "model = nn.Sequential(OrderedDict([\n",
    "                      ('fc1', nn.Linear(input_size, hidden_sizes[0])),\n",
    "                      ('relu1', nn.ReLU()),\n",
    "                      ('fc2', nn.Linear(hidden_sizes[0], hidden_sizes[1])),\n",
    "                      ('relu2', nn.ReLU()),\n",
    "                      ('output', nn.Linear(hidden_sizes[1], output_size)),\n",
    "                      ('softmax', nn.Softmax(dim=1))]))\n",
    "model"
   ]
  },
  {
   "cell_type": "markdown",
   "metadata": {},
   "source": [
    "Now you can access layers either by integer or the name"
   ]
  },
  {
   "cell_type": "code",
   "execution_count": null,
   "metadata": {
    "collapsed": true
   },
   "outputs": [],
   "source": [
    "print(model[0])\n",
    "print(model.fc1)"
   ]
  },
  {
   "cell_type": "markdown",
   "metadata": {},
   "source": [
    "In the next notebook, we'll see how we can train a neural network to accuractly predict the numbers appearing in the MNIST images."
   ]
  }
 ],
 "metadata": {
  "kernelspec": {
   "display_name": "Python 3.7.7 64-bit ('pytorch': conda)",
   "language": "python",
   "name": "python37764bitpytorchcondad3e6b8c2f74a4d6cb34b65fcc0c77354"
  },
  "language_info": {
   "codemirror_mode": {
    "name": "ipython",
    "version": 3
   },
   "file_extension": ".py",
   "mimetype": "text/x-python",
   "name": "python",
   "nbconvert_exporter": "python",
   "pygments_lexer": "ipython3",
   "version": "3.7.7"
  }
 },
 "nbformat": 4,
 "nbformat_minor": 2
}
